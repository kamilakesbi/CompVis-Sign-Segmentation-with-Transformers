{
 "cells": [
  {
   "cell_type": "code",
   "execution_count": 1,
   "metadata": {},
   "outputs": [],
   "source": [
    "import sys\n",
    "import os \n",
    "sys.path.insert(1, os.path.split(os.getcwd())[0])"
   ]
  },
  {
   "cell_type": "code",
   "execution_count": 2,
   "metadata": {},
   "outputs": [
    {
     "name": "stdout",
     "output_type": "stream",
     "text": [
      "^C\n"
     ]
    }
   ],
   "source": [
    "!python ../main.py --refresh --action train --extract_set train --train_data bslcp --test_data bslcp --num_epochs 10 --seed 0 "
   ]
  },
  {
   "cell_type": "markdown",
   "metadata": {},
   "source": []
  },
  {
   "cell_type": "code",
   "execution_count": 39,
   "metadata": {},
   "outputs": [
    {
     "name": "stdout",
     "output_type": "stream",
     "text": [
      "Saved options to ./exps//results/classification/traindata_bslcp/testdata_bslcp/i3d_kinetics_bslcp_981/supervised/4_10_64_1024_8_0.0005_weighted_opt/seed_0/th_0.5\\opt.txt\n",
      "Load test data: bslcp\n",
      "Start inference.\n",
      "Acc: 72.39\n",
      "F1B: [45.84389593062041, 67.72515010006671, 77.86524349566378, 81.73448965977319]\n",
      "mean Recall B: 67.33\n",
      "mean Precision B: 69.28\n",
      "mean F1B: 68.29\n",
      "IoU Sign: 49.03\n",
      "F1s: [47.73, 17.8]\n",
      "mean F1S: 40.79\n",
      "#B:  (3694/3801)\n",
      "mean dist [frames]: 2.38\n",
      "mean B width pred/gt [frames]: 5.23 / 3.32 \n",
      "\n"
     ]
    },
    {
     "name": "stderr",
     "output_type": "stream",
     "text": [
      "Exception in thread Thread-1:\n",
      "Traceback (most recent call last):\n",
      "  File \"C:\\Users\\kam_a\\.conda\\envs\\signseg_env\\lib\\threading.py\", line 926, in _bootstrap_inner\n",
      "    self.run()\n",
      "  File \"C:\\Users\\kam_a\\.conda\\envs\\signseg_env\\lib\\site-packages\\tensorboard\\summary\\writer\\event_file_writer.py\", line 238, in run\n",
      "    self._record_writer.write(data)\n",
      "  File \"C:\\Users\\kam_a\\.conda\\envs\\signseg_env\\lib\\site-packages\\tensorboard\\summary\\writer\\record_writer.py\", line 40, in write\n",
      "    self._writer.write(header + header_crc + data + footer_crc)\n",
      "  File \"C:\\Users\\kam_a\\.conda\\envs\\signseg_env\\lib\\site-packages\\tensorboard\\compat\\tensorflow_stub\\io\\gfile.py\", line 531, in write\n",
      "    self.fs.write(self.filename, file_content, self.binary_mode)\n",
      "  File \"C:\\Users\\kam_a\\.conda\\envs\\signseg_env\\lib\\site-packages\\tensorboard\\compat\\tensorflow_stub\\io\\gfile.py\", line 148, in write\n",
      "    self._write(filename, file_content, \"wb\" if binary_mode else \"w\")\n",
      "  File \"C:\\Users\\kam_a\\.conda\\envs\\signseg_env\\lib\\site-packages\\tensorboard\\compat\\tensorflow_stub\\io\\gfile.py\", line 162, in _write\n",
      "    with io.open(filename, mode, encoding=encoding) as f:\n",
      "FileNotFoundError: [Errno 2] No such file or directory: b'./exps//results/classification/traindata_bslcp/testdata_bslcp/i3d_kinetics_bslcp_981/supervised/4_10_64_1024_8_0.0005_weighted_opt/seed_0/th_0.5/logs\\\\events.out.tfevents.1641835106.DESKTOP-M7GVU52.6844.0'\n",
      "\n",
      "\n",
      "  0%|          | 0/702 [00:00<?, ?it/s]\n",
      "  1%|          | 6/702 [00:00<00:11, 58.82it/s]\n",
      "  2%|▏         | 12/702 [00:00<00:11, 57.80it/s]\n",
      "  3%|▎         | 19/702 [00:00<00:11, 60.20it/s]\n",
      "  4%|▎         | 25/702 [00:00<00:11, 58.22it/s]\n",
      "  4%|▍         | 31/702 [00:00<00:11, 58.40it/s]\n",
      "  5%|▌         | 38/702 [00:00<00:11, 59.27it/s]\n",
      "  6%|▋         | 45/702 [00:00<00:10, 61.63it/s]\n",
      "  7%|▋         | 52/702 [00:00<00:10, 63.75it/s]\n",
      "  8%|▊         | 59/702 [00:00<00:10, 63.20it/s]\n",
      " 10%|▉         | 67/702 [00:01<00:09, 65.43it/s]\n",
      " 11%|█         | 74/702 [00:01<00:09, 64.20it/s]\n",
      " 12%|█▏        | 81/702 [00:01<00:09, 63.34it/s]\n",
      " 13%|█▎        | 88/702 [00:01<00:10, 57.63it/s]\n",
      " 13%|█▎        | 94/702 [00:01<00:10, 56.99it/s]\n",
      " 14%|█▍        | 101/702 [00:01<00:10, 57.92it/s]\n",
      " 15%|█▌        | 107/702 [00:01<00:10, 57.73it/s]\n",
      " 16%|█▌        | 114/702 [00:01<00:09, 60.46it/s]\n",
      " 17%|█▋        | 122/702 [00:01<00:09, 63.99it/s]\n",
      " 18%|█▊        | 129/702 [00:02<00:09, 60.10it/s]\n",
      " 19%|█▉        | 136/702 [00:02<00:09, 57.64it/s]\n",
      " 20%|██        | 142/702 [00:02<00:09, 56.52it/s]\n",
      " 21%|██        | 149/702 [00:02<00:09, 58.92it/s]\n",
      " 22%|██▏       | 157/702 [00:02<00:08, 61.47it/s]\n",
      " 24%|██▎       | 165/702 [00:02<00:08, 64.72it/s]\n",
      " 25%|██▍       | 172/702 [00:02<00:08, 64.82it/s]\n",
      " 25%|██▌       | 179/702 [00:02<00:07, 66.28it/s]\n",
      " 26%|██▋       | 186/702 [00:03<00:07, 66.90it/s]\n",
      " 28%|██▊       | 194/702 [00:03<00:07, 68.79it/s]\n",
      " 29%|██▊       | 201/702 [00:03<00:07, 68.29it/s]\n",
      " 30%|██▉       | 209/702 [00:03<00:07, 68.72it/s]\n",
      " 31%|███       | 217/702 [00:03<00:06, 71.75it/s]\n",
      " 32%|███▏      | 225/702 [00:03<00:06, 71.84it/s]\n",
      " 33%|███▎      | 233/702 [00:03<00:06, 73.30it/s]\n",
      " 34%|███▍      | 241/702 [00:03<00:06, 74.14it/s]\n",
      " 35%|███▌      | 249/702 [00:03<00:06, 72.52it/s]\n",
      " 37%|███▋      | 257/702 [00:03<00:06, 73.96it/s]\n",
      " 38%|███▊      | 265/702 [00:04<00:05, 75.27it/s]\n",
      " 39%|███▉      | 273/702 [00:04<00:05, 75.75it/s]\n",
      " 40%|████      | 281/702 [00:04<00:05, 75.46it/s]\n",
      " 41%|████▏     | 290/702 [00:04<00:05, 77.66it/s]\n",
      " 42%|████▏     | 298/702 [00:04<00:05, 77.22it/s]\n",
      " 44%|████▎     | 306/702 [00:04<00:05, 76.46it/s]\n",
      " 45%|████▍     | 314/702 [00:04<00:05, 75.90it/s]\n",
      " 46%|████▌     | 322/702 [00:04<00:05, 75.56it/s]\n",
      " 47%|████▋     | 330/702 [00:04<00:04, 74.48it/s]\n",
      " 48%|████▊     | 338/702 [00:05<00:04, 73.74it/s]\n",
      " 49%|████▉     | 346/702 [00:05<00:04, 74.88it/s]\n",
      " 50%|█████     | 354/702 [00:05<00:04, 75.06it/s]\n",
      " 52%|█████▏    | 362/702 [00:05<00:04, 75.97it/s]\n",
      " 53%|█████▎    | 370/702 [00:05<00:04, 75.46it/s]\n",
      " 54%|█████▍    | 378/702 [00:05<00:04, 74.40it/s]\n",
      " 55%|█████▍    | 386/702 [00:05<00:04, 73.69it/s]\n",
      " 56%|█████▌    | 394/702 [00:05<00:04, 72.79it/s]\n",
      " 57%|█████▋    | 402/702 [00:05<00:04, 71.79it/s]\n",
      " 59%|█████▊    | 411/702 [00:06<00:03, 74.54it/s]\n",
      " 60%|█████▉    | 419/702 [00:06<00:03, 74.40it/s]\n",
      " 61%|██████    | 427/702 [00:06<00:03, 72.48it/s]\n",
      " 62%|██████▏   | 435/702 [00:06<00:03, 72.36it/s]\n",
      " 63%|██████▎   | 443/702 [00:06<00:03, 73.26it/s]\n",
      " 64%|██████▍   | 451/702 [00:06<00:03, 72.51it/s]\n",
      " 65%|██████▌   | 459/702 [00:06<00:03, 74.40it/s]\n",
      " 67%|██████▋   | 467/702 [00:06<00:03, 75.56it/s]\n",
      " 68%|██████▊   | 475/702 [00:06<00:02, 75.75it/s]\n",
      " 69%|██████▉   | 483/702 [00:06<00:02, 75.88it/s]\n",
      " 70%|██████▉   | 491/702 [00:07<00:02, 75.76it/s]\n",
      " 71%|███████   | 499/702 [00:07<00:02, 75.00it/s]\n",
      " 72%|███████▏  | 507/702 [00:07<00:02, 72.32it/s]\n",
      " 73%|███████▎  | 515/702 [00:07<00:02, 72.04it/s]\n",
      " 75%|███████▍  | 523/702 [00:07<00:02, 73.64it/s]\n",
      " 76%|███████▌  | 531/702 [00:07<00:02, 72.38it/s]\n",
      " 77%|███████▋  | 539/702 [00:07<00:02, 73.28it/s]\n",
      " 78%|███████▊  | 547/702 [00:07<00:02, 71.92it/s]\n",
      " 79%|███████▉  | 555/702 [00:07<00:02, 70.42it/s]\n",
      " 80%|████████  | 563/702 [00:08<00:01, 70.75it/s]\n",
      " 81%|████████▏ | 571/702 [00:08<00:01, 72.50it/s]\n",
      " 82%|████████▏ | 579/702 [00:08<00:01, 72.37it/s]\n",
      " 84%|████████▎ | 587/702 [00:08<00:01, 72.08it/s]\n",
      " 85%|████████▍ | 595/702 [00:08<00:01, 67.52it/s]\n",
      " 86%|████████▌ | 602/702 [00:08<00:01, 62.07it/s]\n",
      " 87%|████████▋ | 609/702 [00:08<00:01, 60.12it/s]\n",
      " 88%|████████▊ | 616/702 [00:08<00:01, 56.95it/s]\n",
      " 89%|████████▊ | 622/702 [00:09<00:01, 52.66it/s]\n",
      " 89%|████████▉ | 628/702 [00:09<00:01, 51.56it/s]\n",
      " 90%|█████████ | 634/702 [00:09<00:01, 52.15it/s]\n",
      " 91%|█████████ | 640/702 [00:09<00:01, 51.75it/s]\n",
      " 92%|█████████▏| 646/702 [00:09<00:01, 51.34it/s]\n",
      " 93%|█████████▎| 652/702 [00:09<00:00, 51.86it/s]\n",
      " 94%|█████████▎| 658/702 [00:09<00:00, 53.05it/s]\n",
      " 95%|█████████▍| 664/702 [00:09<00:00, 54.52it/s]\n",
      " 96%|█████████▌| 671/702 [00:10<00:00, 56.14it/s]\n",
      " 96%|█████████▋| 677/702 [00:10<00:00, 56.44it/s]\n",
      " 97%|█████████▋| 684/702 [00:10<00:00, 57.84it/s]\n",
      " 98%|█████████▊| 690/702 [00:10<00:00, 57.63it/s]\n",
      " 99%|█████████▉| 696/702 [00:10<00:00, 57.65it/s]\n",
      "100%|██████████| 702/702 [00:10<00:00, 58.17it/s]\n",
      "100%|██████████| 702/702 [00:10<00:00, 66.60it/s]\n"
     ]
    }
   ],
   "source": [
    "!python ../main.py --action predict --extract_set test --train_data bslcp --test_data bslcp --num_epochs 2 --seed 0 "
   ]
  },
  {
   "cell_type": "markdown",
   "metadata": {},
   "source": [
    "The evaluation of the model on the test dataset gives an mF1B= 68.22 which is indeed in the interval 68.68±0.6. (The mF1S  however is not coherent with the paper results, it is equal to 46.2< 47.71-0.8). As for the accuracy, we get 74.07 %.\n",
    "\n",
    "The evaluation score on the test set was maximal after epoch 6, and started decreasing later. In fact at this epoch mean F1B = 70.81 with an evaluation loss of 2.49 that also slightly increases after this epoch (overfitting?)."
   ]
  }
 ],
 "metadata": {
  "interpreter": {
   "hash": "8d95d6b7a3c173ab153c673ec402a2591ade3b55cc535db1e60390b48c1dd47f"
  },
  "kernelspec": {
   "display_name": "Python 3.7.11 64-bit ('signseg_env': conda)",
   "language": "python",
   "name": "python3"
  },
  "language_info": {
   "codemirror_mode": {
    "name": "ipython",
    "version": 3
   },
   "file_extension": ".py",
   "mimetype": "text/x-python",
   "name": "python",
   "nbconvert_exporter": "python",
   "pygments_lexer": "ipython3",
   "version": "3.7.11"
  },
  "orig_nbformat": 4
 },
 "nbformat": 4,
 "nbformat_minor": 2
}
