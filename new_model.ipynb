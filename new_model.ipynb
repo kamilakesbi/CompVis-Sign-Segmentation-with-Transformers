{
 "cells": [
  {
   "cell_type": "code",
   "execution_count": 41,
   "metadata": {},
   "outputs": [],
   "source": [
    "from datasets.dataloader import DataLoader\n",
    "from model import Trainer"
   ]
  },
  {
   "cell_type": "markdown",
   "metadata": {},
   "source": [
    "## DataLoader : "
   ]
  },
  {
   "cell_type": "code",
   "execution_count": 19,
   "metadata": {},
   "outputs": [],
   "source": [
    "class Args(): \n",
    "    def __init__(self, *args, **kwargs):\n",
    "        self.train_data = 'bslcp'\n",
    "        self.test_data = 'bslcp'\n",
    "        self.i3d_training = 'i3d_kinetics_bslcp_981'\n",
    "        self.num_in_frames = 16\n",
    "        self.features_dim = 1024\n",
    "        self.weights = 'opt'\n",
    "\n",
    "        self.regression = 0 \n",
    "        self.feature_normalization = 0 \n",
    "        self.eval_use_CP = 0\n",
    "\n",
    "        self.action = 'train'\n",
    "\n",
    "args = Args()"
   ]
  },
  {
   "cell_type": "code",
   "execution_count": 20,
   "metadata": {},
   "outputs": [
    {
     "name": "stdout",
     "output_type": "stream",
     "text": [
      "Load train data: bslcp\n",
      "Load test data: bslcp\n"
     ]
    }
   ],
   "source": [
    "# load train dataset and test dataset\n",
    "\n",
    "print(f'Load train data: {args.train_data}')\n",
    "train_loader = DataLoader(args, args.train_data, 'train')\n",
    "print(f'Load test data: {args.test_data}')\n",
    "test_loader = DataLoader(args, args.test_data, 'test')"
   ]
  },
  {
   "cell_type": "code",
   "execution_count": 38,
   "metadata": {},
   "outputs": [
    {
     "name": "stdout",
     "output_type": "stream",
     "text": [
      "number of class :  2\n",
      "cross entropy loss weigths :  [0.11247607877029446, 0.8875239212297056]\n",
      "number of videos in train :  5413\n"
     ]
    }
   ],
   "source": [
    "## Some infos : \n",
    "print(\"number of class : \", train_loader.num_classes)\n",
    "print(\"cross entropy loss weigths : \", train_loader.weights)\n",
    "print('number of videos in train : ', len(train_loader.vid_list))"
   ]
  },
  {
   "cell_type": "markdown",
   "metadata": {},
   "source": [
    "## Trainer : "
   ]
  },
  {
   "cell_type": "code",
   "execution_count": null,
   "metadata": {},
   "outputs": [],
   "source": [
    "print(f'Start training.')\n",
    "trainer = Trainer(\n",
    "    args.num_stages,\n",
    "    args.num_layers,\n",
    "    args.num_f_maps,\n",
    "    args.features_dim,\n",
    "    train_loader.num_classes,\n",
    "    device,\n",
    "    train_loader.weights,\n",
    "    model_save_dir\n",
    "    )"
   ]
  }
 ],
 "metadata": {
  "interpreter": {
   "hash": "8d95d6b7a3c173ab153c673ec402a2591ade3b55cc535db1e60390b48c1dd47f"
  },
  "kernelspec": {
   "display_name": "Python 3.7.11 64-bit ('signseg_env': conda)",
   "language": "python",
   "name": "python3"
  },
  "language_info": {
   "codemirror_mode": {
    "name": "ipython",
    "version": 3
   },
   "file_extension": ".py",
   "mimetype": "text/x-python",
   "name": "python",
   "nbconvert_exporter": "python",
   "pygments_lexer": "ipython3",
   "version": "3.7.11"
  },
  "orig_nbformat": 4
 },
 "nbformat": 4,
 "nbformat_minor": 2
}
